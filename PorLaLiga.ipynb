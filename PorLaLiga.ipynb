{
 "cells": [
  {
   "cell_type": "markdown",
   "id": "cba59ac9",
   "metadata": {},
   "source": [
    "### Estadísticas de tiros Bundesliga"
   ]
  },
  {
   "cell_type": "markdown",
   "id": "f05ff3d9",
   "metadata": {},
   "source": [
    "#### Extracción de la temporada"
   ]
  },
  {
   "cell_type": "code",
   "execution_count": 51,
   "id": "ba595082",
   "metadata": {},
   "outputs": [],
   "source": [
    "import requests\n",
    "import pandas as pd\n",
    "\n",
    "url = 'https://fbref.com/es/comps/12/keepers/Estadisticas-de-La-Liga'\n",
    "html = requests.get(url).content\n",
    "df_list = pd.read_html(html)"
   ]
  },
  {
   "cell_type": "code",
   "execution_count": 52,
   "id": "11dacb2f",
   "metadata": {},
   "outputs": [
    {
     "data": {
      "text/plain": [
       "'2023-2024'"
      ]
     },
     "execution_count": 52,
     "metadata": {},
     "output_type": "execute_result"
    }
   ],
   "source": [
    "datos_str = html.decode()\n",
    "posicion1 = datos_str.find(\"temporada\")\n",
    "posicion1 = posicion1+10\n",
    "posicion2 = posicion1+9\n",
    "varTemporada = datos_str[posicion1:posicion2]\n",
    "varTemporada"
   ]
  },
  {
   "cell_type": "markdown",
   "id": "e9127cd4",
   "metadata": {},
   "source": [
    "#### Extracción de la tabla"
   ]
  },
  {
   "cell_type": "code",
   "execution_count": null,
   "id": "90a2051b",
   "metadata": {},
   "outputs": [],
   "source": [
    "from selenium import webdriver\n",
    "from selenium.webdriver.common.by import By\n",
    "from selenium.webdriver.support.ui import WebDriverWait\n",
    "from selenium.webdriver.support import expected_conditions as EC\n",
    "import pandas as pd\n",
    "\n",
    "# Iniciar un navegador web con Selenium\n",
    "driver = webdriver.Chrome()\n",
    "driver.get(url)\n",
    "\n",
    "# Esperar hasta que la segunda tabla esté presente en la página\n",
    "wait = WebDriverWait(driver, 2)\n",
    "table = wait.until(EC.presence_of_element_located((By.ID, 'stats_keeper')))\n",
    "\n",
    "# Obtener las filas de la tabla\n",
    "rows = table.find_elements(By.TAG_NAME, 'tr')\n",
    "\n",
    "# Inicializar una lista para almacenar los datos de la tabla\n",
    "data = []\n",
    "\n",
    "# Iterar a través de las filas y obtener los datos de las celdas\n",
    "for row in rows:\n",
    "    cells = row.find_elements(By.TAG_NAME, 'td')\n",
    "    row_data = [cell.text for cell in cells]\n",
    "    data.append(row_data)\n",
    "\n",
    "# Crear un DataFrame de pandas a partir de los datos\n",
    "df = pd.DataFrame(data)"
   ]
  },
  {
   "cell_type": "code",
   "execution_count": null,
   "id": "92e6d270",
   "metadata": {},
   "outputs": [],
   "source": [
    "df.columns = ['Jugador','País','Posc','Equipo','Edad','Nacimiento','PartidosJugados','Titular','Minutos','PartidosJugados2','GolesEnContra','GolesEnContraPorPartido','DisparosPuertaContra','Salvadas','%Salvadas','PartidosGanados','PartidosEmpatados','PartidosPerdidos','PartidosPorteriaCero','%PartidosPorteriaCero','PenalesIntentados','PenalesConcedidos','PenalesDetenidos','PenalesFallidos','%PenalesSalvados','Partidos']"
   ]
  },
  {
   "cell_type": "markdown",
   "id": "4b2d7a8d",
   "metadata": {},
   "source": [
    "#### Exportación a csv"
   ]
  },
  {
   "cell_type": "code",
   "execution_count": null,
   "id": "2543d294",
   "metadata": {},
   "outputs": [],
   "source": [
    "import pandas as pd\n",
    "\n",
    "# Supongamos que ya tienes un DataFrame llamado \"df\"\n",
    "# df = pd.DataFrame(...)\n",
    "\n",
    "# Especifica la ruta completa al directorio donde deseas guardar el archivo CSV\n",
    "ruta_carpeta = 'Desktop/ProyectoWebScrapping/Porteros'\n",
    "\n",
    "# Especifica el nombre del archivo CSV\n",
    "nombre_archivo = '/LaLiga_Porteros_'+varTemporada+'.csv'\n",
    "\n",
    "# Combina la ruta de la carpeta y el nombre del archivo para obtener la ruta completa del archivo CSV\n",
    "ruta_completa = ruta_carpeta + nombre_archivo\n",
    "\n",
    "# Utiliza el método to_csv para guardar el DataFrame en el archivo CSV en la carpeta especificada\n",
    "df.to_csv(ruta_completa, index=False)\n",
    "\n",
    "print(f'DataFrame exportado a {ruta_completa}')"
   ]
  },
  {
   "cell_type": "code",
   "execution_count": null,
   "id": "d0fb2882",
   "metadata": {},
   "outputs": [],
   "source": []
  }
 ],
 "metadata": {
  "kernelspec": {
   "display_name": "Python 3 (ipykernel)",
   "language": "python",
   "name": "python3"
  },
  "language_info": {
   "codemirror_mode": {
    "name": "ipython",
    "version": 3
   },
   "file_extension": ".py",
   "mimetype": "text/x-python",
   "name": "python",
   "nbconvert_exporter": "python",
   "pygments_lexer": "ipython3",
   "version": "3.10.9"
  }
 },
 "nbformat": 4,
 "nbformat_minor": 5
}
